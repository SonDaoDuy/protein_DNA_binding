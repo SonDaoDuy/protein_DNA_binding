{
 "cells": [
  {
   "cell_type": "code",
   "execution_count": 1,
   "metadata": {},
   "outputs": [],
   "source": [
    "import matplotlib.pyplot as plt\n",
    "import numpy as np\n",
    "import os\n"
   ]
  },
  {
   "cell_type": "code",
   "execution_count": 2,
   "metadata": {},
   "outputs": [],
   "source": [
    "file_train_loss = './checkpoints/exp10/loss_log_train.txt'\n",
    "file_val_loss = './checkpoints/exp10/loss_log_val.txt'\n",
    "file_metric = './checkpoints/exp10/loss_log_val_metric.txt'\n",
    "\n",
    "all_train_loss = []\n",
    "with open(file_train_loss, 'r') as f:\n",
    "    for line in f:\n",
    "        #line = f.readline()\n",
    "        loss = float(line.split(' ')[7])\n",
    "        all_train_loss.append(loss)\n",
    "    \n",
    "all_val_loss = []\n",
    "with open(file_val_loss, 'r') as f:\n",
    "    for line in f:\n",
    "        loss = float(line.split(' ')[8])\n",
    "        all_val_loss.append(loss)\n",
    "    \n",
    "sen = []\n",
    "pre = []\n",
    "acc = []\n",
    "spe = []\n",
    "mcc = []\n",
    "with open(file_metric, 'r') as f:\n",
    "    for line in f:\n",
    "        item = line.split(' ')\n",
    "        sen_i = float(item[6][:-1])\n",
    "        sen.append(sen_i)\n",
    "        spe_i = float(item[8][:-1])\n",
    "        spe.append(spe_i)\n",
    "        acc_i = float(item[10][:-1])\n",
    "        acc.append(acc_i)\n",
    "        pre_i = float(item[12][:-1])\n",
    "        pre.append(pre_i)\n",
    "        mcc_i = float(item[14])\n",
    "        mcc.append(mcc_i)"
   ]
  },
  {
   "cell_type": "code",
   "execution_count": 3,
   "metadata": {},
   "outputs": [
    {
     "data": {
      "image/png": "[encoded data removed]",
      "text/plain": [
       "<Figure size 432x288 with 2 Axes>"
      ]
     },
     "metadata": {},
     "output_type": "display_data"
    }
   ],
   "source": [
    "epochs = np.arange(len(acc))\n",
    "\n",
    "fig = plt.figure()\n",
    "#plot loss\n",
    "bx = plt.subplot(211)\n",
    "bx.plot(epochs, all_train_loss, label='train_loss')\n",
    "bx.plot(epochs, all_val_loss, label='val_loss')\n",
    "# Shrink current axis by 20%\n",
    "box = bx.get_position()\n",
    "bx.set_position([box.x0, box.y0, box.width, box.height])\n",
    "\n",
    "# Put a legend to the right of the current axis\n",
    "bx.legend(loc='center left', bbox_to_anchor=(1, 0.5))\n",
    "\n",
    "#plot metric\n",
    "ax = plt.subplot(212)\n",
    "\n",
    "ax.plot(epochs, sen, label='sen')\n",
    "ax.plot(epochs, spe, label='spe')\n",
    "ax.plot(epochs, acc, label='acc')\n",
    "ax.plot(epochs, pre, label='pre')\n",
    "ax.plot(epochs, mcc, label='mcc')\n",
    "\n",
    "# Shrink current axis by 20%\n",
    "box = ax.get_position()\n",
    "ax.set_position([box.x0, box.y0, box.width, box.height])\n",
    "\n",
    "# Put a legend to the right of the current axis\n",
    "ax.legend(loc='center left', bbox_to_anchor=(1, 0.5))\n",
    "\n",
    "plt.show()"
   ]
  },
  {
   "cell_type": "code",
   "execution_count": null,
   "metadata": {},
   "outputs": [],
   "source": []
  }
 ],
 "metadata": {
  "kernelspec": {
   "display_name": "Python 3",
   "language": "python",
   "name": "python3"
  },
  "language_info": {
   "codemirror_mode": {
    "name": "ipython",
    "version": 3
   },
   "file_extension": ".py",
   "mimetype": "text/x-python",
   "name": "python",
   "nbconvert_exporter": "python",
   "pygments_lexer": "ipython3",
   "version": "3.6.2"
  }
 },
 "nbformat": 4,
 "nbformat_minor": 2
}
