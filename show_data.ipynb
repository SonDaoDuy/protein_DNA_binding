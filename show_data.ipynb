{
 "cells": [
  {
   "cell_type": "code",
   "execution_count": 2,
   "metadata": {},
   "outputs": [],
   "source": [
    "from Bio import SeqIO\n"
   ]
  },
  {
   "cell_type": "code",
   "execution_count": 37,
   "metadata": {},
   "outputs": [
    {
     "name": "stdout",
     "output_type": "stream",
     "text": [
      "HMINKKSLLQNLLSKCKTTFQQSFTNANITLKDEKWLKNVRTAYFVCDHDGSVELAYLPNVLPKELVEEFTEKFESIQTGRKKDTGYSGILDNSMPFNYVTADLSQELGQYLSEIVNPQINYYISKLLTCVSSRTINYLVSLNDSYYALNNCLYPSTAFNSLKPSNDGHRIRKPHKDNLDITPSSLFYFGNFQNTEGYLELTDKNCKVFVQPGDVLFFKGNEYKHVVANITSGWRIGLVYFAHKGSKTKPYYEDTQKNSLKIHKETK\n"
     ]
    }
   ],
   "source": [
    "for record in SeqIO.parse(\"PDNA-TEST_sequence.fasta\", \"fasta\"):\n",
    "    print(record.seq)\n",
    "    break"
   ]
  },
  {
   "cell_type": "code",
   "execution_count": 36,
   "metadata": {},
   "outputs": [
    {
     "data": {
      "text/plain": [
       "{'0': 134995, '1': 9549}"
      ]
     },
     "execution_count": 36,
     "metadata": {},
     "output_type": "execute_result"
    }
   ],
   "source": [
    "count_label = {}\n",
    "for record in SeqIO.parse(\"PDNA-543_label.fasta\", \"fasta\"):\n",
    "   # print(record.seq)\n",
    "    for c in record.seq:\n",
    "        count_label[c]=count_label.setdefault(c, 0)+1\n",
    "        \n",
    "count_label"
   ]
  },
  {
   "cell_type": "code",
   "execution_count": 17,
   "metadata": {},
   "outputs": [
    {
     "name": "stdout",
     "output_type": "stream",
     "text": [
      "ID: 1DFM_A\n",
      "Name: 1DFM_A\n",
      "Description: 1DFM_A\n",
      "Number of features: 0\n",
      "Seq('KIDITDYNHADEILNPQLWKEIEETLLKPLHVKASDQASKVGSLIFDPVGTNQY...VTY', SingleLetterAlphabet())\n"
     ]
    }
   ],
   "source": [
    "for record in SeqIO.parse(\"metaDBsite_PDNA316_sequence.fasta\", \"fasta\"):\n",
    "    print(record)\n",
    "    break"
   ]
  },
  {
   "cell_type": "code",
   "execution_count": 16,
   "metadata": {},
   "outputs": [
    {
     "name": "stdout",
     "output_type": "stream",
     "text": [
      "ID: 1DFM_A\n",
      "Name: 1DFM_A\n",
      "Description: 1DFM_A\n",
      "Number of features: 0\n",
      "Seq('000000000000000000000000000000001001110000000001100100...000', SingleLetterAlphabet())\n"
     ]
    }
   ],
   "source": [
    "for record in SeqIO.parse(\"metaDBsite_PDNA316_label.fasta\", \"fasta\"):\n",
    "    print(record)\n",
    "    break"
   ]
  },
  {
   "cell_type": "code",
   "execution_count": 18,
   "metadata": {},
   "outputs": [],
   "source": [
    "count = {}\n",
    "for record in SeqIO.parse(\"PDNA-543_sequence.fasta\", \"fasta\"):\n",
    "    #print(record.seq)\n",
    "    for c in record.seq:\n",
    "        count[c]=count.setdefault(c, 0)+1"
   ]
  },
  {
   "cell_type": "code",
   "execution_count": 19,
   "metadata": {},
   "outputs": [
    {
     "data": {
      "text/plain": [
       "{'A': 10485,\n",
       " 'V': 9365,\n",
       " 'K': 10413,\n",
       " 'I': 8543,\n",
       " 'S': 8619,\n",
       " 'Q': 5922,\n",
       " 'Y': 4897,\n",
       " 'C': 1929,\n",
       " 'R': 9278,\n",
       " 'T': 7094,\n",
       " 'L': 14638,\n",
       " 'N': 5920,\n",
       " 'F': 5878,\n",
       " 'D': 7807,\n",
       " 'E': 10479,\n",
       " 'G': 8782,\n",
       " 'M': 2907,\n",
       " 'P': 6336,\n",
       " 'W': 1861,\n",
       " 'H': 3391}"
      ]
     },
     "execution_count": 19,
     "metadata": {},
     "output_type": "execute_result"
    }
   ],
   "source": [
    "count"
   ]
  },
  {
   "cell_type": "code",
   "execution_count": 25,
   "metadata": {},
   "outputs": [
    {
     "data": {
      "text/plain": [
       "dict_items([('A', 10485), ('V', 9365), ('K', 10413), ('I', 8543), ('S', 8619), ('Q', 5922), ('Y', 4897), ('C', 1929), ('R', 9278), ('T', 7094), ('L', 14638), ('N', 5920), ('F', 5878), ('D', 7807), ('E', 10479), ('G', 8782), ('M', 2907), ('P', 6336), ('W', 1861), ('H', 3391)])"
      ]
     },
     "execution_count": 25,
     "metadata": {},
     "output_type": "execute_result"
    }
   ],
   "source": [
    "count.items()"
   ]
  },
  {
   "cell_type": "code",
   "execution_count": 35,
   "metadata": {},
   "outputs": [
    {
     "data": {
      "image/png": "[encoded data removed]",
      "text/plain": [
       "<Figure size 432x288 with 1 Axes>"
      ]
     },
     "metadata": {},
     "output_type": "display_data"
    }
   ],
   "source": [
    "import matplotlib.pyplot as plt\n",
    "import numpy as np\n",
    "x = []\n",
    "name = []\n",
    "for key, val in count.items():\n",
    "    x.append(val)\n",
    "    name.append(key)\n",
    "#plt.plot(x)\n",
    "y_pos = np.arange(len(name))\n",
    "plt.bar(name, x, align='center', alpha=0.5)\n",
    "plt.ylabel('No of Appearance')\n",
    "plt.xlabel('Character')\n",
    "plt.show()\n"
   ]
  },
  {
   "cell_type": "code",
   "execution_count": 5,
   "metadata": {},
   "outputs": [],
   "source": [
    "import numpy as np\n",
    "def _sequence_to_embeb(sequence):\n",
    "    emb = []\n",
    "    fill_num = 0.05\n",
    "    no_of_cell = 20\n",
    "    slide = 10\n",
    "    scan = 6\n",
    "    # m = 6, n = 10\n",
    "    for i in range(5):\n",
    "        row = [fill_num]*no_of_cell\n",
    "        emb.append(row)\n",
    "\n",
    "    for letter in sequence:\n",
    "        row = _gen_one_hot(letter)\n",
    "        emb.append(row)\n",
    "\n",
    "    for i in range(5):\n",
    "        row = [fill_num]*no_of_cell\n",
    "        emb.append(row)\n",
    "\n",
    "    emb = np.array(emb)\n",
    "\n",
    "    return emb\n",
    "\n",
    "def _gen_one_hot(letter):\n",
    "    no_of_cell = 20\n",
    "    row = [0]*no_of_cell\n",
    "    if letter == 'A':\n",
    "        row[0] = 1\n",
    "    elif letter == 'V':\n",
    "        row[1] = 1\n",
    "    elif letter == 'K':\n",
    "        row[2] = 1\n",
    "    elif letter == 'I':\n",
    "        row[3] = 1\n",
    "    elif letter == 'S':\n",
    "        row[4] = 1\n",
    "    elif letter == 'Q':\n",
    "        row[5] = 1\n",
    "    elif letter == 'Y':\n",
    "        row[6] = 1\n",
    "    elif letter == 'C':\n",
    "        row[7] = 1\n",
    "    elif letter == 'R':\n",
    "        row[8] = 1\n",
    "    elif letter == 'T':\n",
    "        row[9] = 1\n",
    "    elif letter == 'L':\n",
    "        row[10] = 1\n",
    "    elif letter == 'N':\n",
    "        row[11] = 1\n",
    "    elif letter == 'F':\n",
    "        row[12] = 1\n",
    "    elif letter == 'D':\n",
    "        row[13] = 1\n",
    "    elif letter == 'E':\n",
    "        row[14] = 1\n",
    "    elif letter == 'G':\n",
    "        row[15] = 1\n",
    "    elif letter == 'M':\n",
    "        row[16] = 1\n",
    "    elif letter == 'P':\n",
    "        row[17] = 1\n",
    "    elif letter == 'W':\n",
    "        row[18] = 1\n",
    "    elif letter == 'H':\n",
    "        row[19] = 1\n",
    "\n",
    "    return row\n"
   ]
  },
  {
   "cell_type": "code",
   "execution_count": 6,
   "metadata": {},
   "outputs": [],
   "source": [
    "str = 'AWH'\n",
    "a = _sequence_to_embeb(str)"
   ]
  },
  {
   "cell_type": "code",
   "execution_count": 10,
   "metadata": {},
   "outputs": [
    {
     "data": {
      "text/plain": [
       "array([0.05, 0.05, 0.05, 0.05, 0.05, 0.05, 0.05, 0.05, 0.05, 0.05, 0.05,\n",
       "       0.05, 0.05, 0.05, 0.05, 0.05, 0.05, 0.05, 0.05, 0.05])"
      ]
     },
     "execution_count": 10,
     "metadata": {},
     "output_type": "execute_result"
    }
   ],
   "source": [
    "a[0]"
   ]
  },
  {
   "cell_type": "code",
   "execution_count": null,
   "metadata": {},
   "outputs": [],
   "source": []
  }
 ],
 "metadata": {
  "kernelspec": {
   "display_name": "Python 3",
   "language": "python",
   "name": "python3"
  },
  "language_info": {
   "codemirror_mode": {
    "name": "ipython",
    "version": 3
   },
   "file_extension": ".py",
   "mimetype": "text/x-python",
   "name": "python",
   "nbconvert_exporter": "python",
   "pygments_lexer": "ipython3",
   "version": "3.6.2"
  }
 },
 "nbformat": 4,
 "nbformat_minor": 2
}
